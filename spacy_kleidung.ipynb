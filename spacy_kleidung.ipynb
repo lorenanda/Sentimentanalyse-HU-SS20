{
 "cells": [
  {
   "cell_type": "markdown",
   "metadata": {},
   "source": [
    "## Sentimentanalyse von [Kleidungsbewertungen](https://www.kaggle.com/timoboz/womens-ecommerce-clothing-reviews)\n",
    "[Tutorial Hilfe](https://www.dataquest.io/blog/tutorial-text-classification-in-python-using-spacy/)"
   ]
  },
  {
   "source": [
    "## SETUP"
   ],
   "cell_type": "markdown",
   "metadata": {}
  },
  {
   "cell_type": "code",
   "execution_count": 63,
   "metadata": {},
   "outputs": [],
   "source": [
    "import spacy\n",
    "import pandas as pd\n",
    "import numpy as np\n",
    "import matplotlib.pyplot as plt\n",
    "import seaborn as sns\n",
    "import spacy\n",
    "import en_core_web_sm\n",
    "from spacy.lang.en.stop_words import STOP_WORDS\n",
    "from sklearn.feature_extraction.text import TfidfVectorizer, TransformerMixin, CountVectorizer\n",
    "from sklearn.pipeline import Pipeline\n",
    "from sklearn.metrics import accuracy_score, precision_score\n",
    "from sklearn.svm import LinearSVC\n",
    "from sklearn.linear_model import LogisticRegression"
   ]
  },
  {
   "cell_type": "code",
   "execution_count": 9,
   "metadata": {},
   "outputs": [],
   "source": [
    "df_en = pd.read_csv('kleidung_en.csv')"
   ]
  },
  {
   "cell_type": "code",
   "execution_count": 10,
   "metadata": {},
   "outputs": [
    {
     "output_type": "execute_result",
     "data": {
      "text/plain": [
       "   Unnamed: 0                                        Review Text  \\\n",
       "0           0  Absolutely wonderful - silky and sexy and comf...   \n",
       "1           1  Love this dress!  it's sooo pretty.  i happene...   \n",
       "2           2  I had such high hopes for this dress and reall...   \n",
       "3           3  I love, love, love this jumpsuit. it's fun, fl...   \n",
       "4           4  This shirt is very flattering to all due to th...   \n",
       "\n",
       "   Recommended IND  \n",
       "0                1  \n",
       "1                1  \n",
       "2                0  \n",
       "3                1  \n",
       "4                1  "
      ],
      "text/html": "<div>\n<style scoped>\n    .dataframe tbody tr th:only-of-type {\n        vertical-align: middle;\n    }\n\n    .dataframe tbody tr th {\n        vertical-align: top;\n    }\n\n    .dataframe thead th {\n        text-align: right;\n    }\n</style>\n<table border=\"1\" class=\"dataframe\">\n  <thead>\n    <tr style=\"text-align: right;\">\n      <th></th>\n      <th>Unnamed: 0</th>\n      <th>Review Text</th>\n      <th>Recommended IND</th>\n    </tr>\n  </thead>\n  <tbody>\n    <tr>\n      <th>0</th>\n      <td>0</td>\n      <td>Absolutely wonderful - silky and sexy and comf...</td>\n      <td>1</td>\n    </tr>\n    <tr>\n      <th>1</th>\n      <td>1</td>\n      <td>Love this dress!  it's sooo pretty.  i happene...</td>\n      <td>1</td>\n    </tr>\n    <tr>\n      <th>2</th>\n      <td>2</td>\n      <td>I had such high hopes for this dress and reall...</td>\n      <td>0</td>\n    </tr>\n    <tr>\n      <th>3</th>\n      <td>3</td>\n      <td>I love, love, love this jumpsuit. it's fun, fl...</td>\n      <td>1</td>\n    </tr>\n    <tr>\n      <th>4</th>\n      <td>4</td>\n      <td>This shirt is very flattering to all due to th...</td>\n      <td>1</td>\n    </tr>\n  </tbody>\n</table>\n</div>"
     },
     "metadata": {},
     "execution_count": 10
    }
   ],
   "source": [
    "df_en.head()"
   ]
  },
  {
   "cell_type": "code",
   "execution_count": 11,
   "metadata": {},
   "outputs": [
    {
     "output_type": "execute_result",
     "data": {
      "text/plain": [
       "Unnamed: 0          int64\n",
       "Review Text        object\n",
       "Recommended IND     int64\n",
       "dtype: object"
      ]
     },
     "metadata": {},
     "execution_count": 11
    }
   ],
   "source": [
    "df_en.dtypes"
   ]
  },
  {
   "cell_type": "code",
   "execution_count": 12,
   "metadata": {},
   "outputs": [
    {
     "output_type": "execute_result",
     "data": {
      "text/plain": [
       "   Unnamed: 0                                        Review Text  \\\n",
       "0           0  Absolutely wonderful - silky and sexy and comf...   \n",
       "1           1  Love this dress!  it's sooo pretty.  i happene...   \n",
       "2           2  I had such high hopes for this dress and reall...   \n",
       "3           3  I love, love, love this jumpsuit. it's fun, fl...   \n",
       "4           4  This shirt is very flattering to all due to th...   \n",
       "\n",
       "   Recommended IND  \n",
       "0                1  \n",
       "1                1  \n",
       "2                0  \n",
       "3                1  \n",
       "4                1  "
      ],
      "text/html": "<div>\n<style scoped>\n    .dataframe tbody tr th:only-of-type {\n        vertical-align: middle;\n    }\n\n    .dataframe tbody tr th {\n        vertical-align: top;\n    }\n\n    .dataframe thead th {\n        text-align: right;\n    }\n</style>\n<table border=\"1\" class=\"dataframe\">\n  <thead>\n    <tr style=\"text-align: right;\">\n      <th></th>\n      <th>Unnamed: 0</th>\n      <th>Review Text</th>\n      <th>Recommended IND</th>\n    </tr>\n  </thead>\n  <tbody>\n    <tr>\n      <th>0</th>\n      <td>0</td>\n      <td>Absolutely wonderful - silky and sexy and comf...</td>\n      <td>1</td>\n    </tr>\n    <tr>\n      <th>1</th>\n      <td>1</td>\n      <td>Love this dress!  it's sooo pretty.  i happene...</td>\n      <td>1</td>\n    </tr>\n    <tr>\n      <th>2</th>\n      <td>2</td>\n      <td>I had such high hopes for this dress and reall...</td>\n      <td>0</td>\n    </tr>\n    <tr>\n      <th>3</th>\n      <td>3</td>\n      <td>I love, love, love this jumpsuit. it's fun, fl...</td>\n      <td>1</td>\n    </tr>\n    <tr>\n      <th>4</th>\n      <td>4</td>\n      <td>This shirt is very flattering to all due to th...</td>\n      <td>1</td>\n    </tr>\n  </tbody>\n</table>\n</div>"
     },
     "metadata": {},
     "execution_count": 12
    }
   ],
   "source": [
    "df_en['Review Text'] = df_en['Review Text'].astype(str)"
   ]
  },
  {
   "cell_type": "code",
   "execution_count": 14,
   "metadata": {},
   "outputs": [
    {
     "output_type": "execute_result",
     "data": {
      "text/plain": [
       "                                         Review Text  Recommended IND\n",
       "0  Absolutely wonderful - silky and sexy and comf...                1\n",
       "1  Love this dress!  it's sooo pretty.  i happene...                1\n",
       "2  I had such high hopes for this dress and reall...                0\n",
       "3  I love, love, love this jumpsuit. it's fun, fl...                1\n",
       "4  This shirt is very flattering to all due to th...                1"
      ],
      "text/html": "<div>\n<style scoped>\n    .dataframe tbody tr th:only-of-type {\n        vertical-align: middle;\n    }\n\n    .dataframe tbody tr th {\n        vertical-align: top;\n    }\n\n    .dataframe thead th {\n        text-align: right;\n    }\n</style>\n<table border=\"1\" class=\"dataframe\">\n  <thead>\n    <tr style=\"text-align: right;\">\n      <th></th>\n      <th>Review Text</th>\n      <th>Recommended IND</th>\n    </tr>\n  </thead>\n  <tbody>\n    <tr>\n      <th>0</th>\n      <td>Absolutely wonderful - silky and sexy and comf...</td>\n      <td>1</td>\n    </tr>\n    <tr>\n      <th>1</th>\n      <td>Love this dress!  it's sooo pretty.  i happene...</td>\n      <td>1</td>\n    </tr>\n    <tr>\n      <th>2</th>\n      <td>I had such high hopes for this dress and reall...</td>\n      <td>0</td>\n    </tr>\n    <tr>\n      <th>3</th>\n      <td>I love, love, love this jumpsuit. it's fun, fl...</td>\n      <td>1</td>\n    </tr>\n    <tr>\n      <th>4</th>\n      <td>This shirt is very flattering to all due to th...</td>\n      <td>1</td>\n    </tr>\n  </tbody>\n</table>\n</div>"
     },
     "metadata": {},
     "execution_count": 14
    }
   ],
   "source": [
    "df_en = df_en.drop(['Unnamed: 0'], axis=1)\n",
    "df_en.head()"
   ]
  },
  {
   "cell_type": "code",
   "execution_count": 16,
   "metadata": {},
   "outputs": [
    {
     "output_type": "execute_result",
     "data": {
      "text/plain": [
       "Review Text        0\n",
       "Recommended IND    0\n",
       "dtype: int64"
      ]
     },
     "metadata": {},
     "execution_count": 16
    }
   ],
   "source": [
    "# check missing values\n",
    "df_en.isna().sum()"
   ]
  },
  {
   "cell_type": "code",
   "execution_count": 20,
   "metadata": {},
   "outputs": [
    {
     "output_type": "stream",
     "name": "stdout",
     "text": [
      "Collecting en_core_web_sm==2.3.1\n",
      "  Downloading https://github.com/explosion/spacy-models/releases/download/en_core_web_sm-2.3.1/en_core_web_sm-2.3.1.tar.gz (12.0 MB)\n",
      "\u001b[K     |████████████████████████████████| 12.0 MB 3.0 MB/s \n",
      "\u001b[?25hRequirement already satisfied: spacy<2.4.0,>=2.3.0 in /home/lorena/anaconda3/envs/my_env/lib/python3.8/site-packages (from en_core_web_sm==2.3.1) (2.3.2)\n",
      "Requirement already satisfied: preshed<3.1.0,>=3.0.2 in /home/lorena/anaconda3/envs/my_env/lib/python3.8/site-packages (from spacy<2.4.0,>=2.3.0->en_core_web_sm==2.3.1) (3.0.2)\n",
      "Requirement already satisfied: srsly<1.1.0,>=1.0.2 in /home/lorena/anaconda3/envs/my_env/lib/python3.8/site-packages (from spacy<2.4.0,>=2.3.0->en_core_web_sm==2.3.1) (1.0.2)\n",
      "Requirement already satisfied: thinc==7.4.1 in /home/lorena/anaconda3/envs/my_env/lib/python3.8/site-packages (from spacy<2.4.0,>=2.3.0->en_core_web_sm==2.3.1) (7.4.1)\n",
      "Requirement already satisfied: setuptools in /home/lorena/anaconda3/envs/my_env/lib/python3.8/site-packages (from spacy<2.4.0,>=2.3.0->en_core_web_sm==2.3.1) (49.6.0.post20200814)\n",
      "Requirement already satisfied: tqdm<5.0.0,>=4.38.0 in /home/lorena/anaconda3/envs/my_env/lib/python3.8/site-packages (from spacy<2.4.0,>=2.3.0->en_core_web_sm==2.3.1) (4.50.0)\n",
      "Requirement already satisfied: murmurhash<1.1.0,>=0.28.0 in /home/lorena/anaconda3/envs/my_env/lib/python3.8/site-packages (from spacy<2.4.0,>=2.3.0->en_core_web_sm==2.3.1) (1.0.2)\n",
      "Requirement already satisfied: requests<3.0.0,>=2.13.0 in /home/lorena/anaconda3/envs/my_env/lib/python3.8/site-packages (from spacy<2.4.0,>=2.3.0->en_core_web_sm==2.3.1) (2.24.0)\n",
      "Requirement already satisfied: cymem<2.1.0,>=2.0.2 in /home/lorena/anaconda3/envs/my_env/lib/python3.8/site-packages (from spacy<2.4.0,>=2.3.0->en_core_web_sm==2.3.1) (2.0.3)\n",
      "Requirement already satisfied: wasabi<1.1.0,>=0.4.0 in /home/lorena/anaconda3/envs/my_env/lib/python3.8/site-packages (from spacy<2.4.0,>=2.3.0->en_core_web_sm==2.3.1) (0.8.0)\n",
      "Requirement already satisfied: blis<0.5.0,>=0.4.0 in /home/lorena/anaconda3/envs/my_env/lib/python3.8/site-packages (from spacy<2.4.0,>=2.3.0->en_core_web_sm==2.3.1) (0.4.1)\n",
      "Requirement already satisfied: plac<1.2.0,>=0.9.6 in /home/lorena/anaconda3/envs/my_env/lib/python3.8/site-packages (from spacy<2.4.0,>=2.3.0->en_core_web_sm==2.3.1) (1.1.3)\n",
      "Requirement already satisfied: numpy>=1.15.0 in /home/lorena/anaconda3/envs/my_env/lib/python3.8/site-packages (from spacy<2.4.0,>=2.3.0->en_core_web_sm==2.3.1) (1.19.1)\n",
      "Requirement already satisfied: catalogue<1.1.0,>=0.0.7 in /home/lorena/anaconda3/envs/my_env/lib/python3.8/site-packages (from spacy<2.4.0,>=2.3.0->en_core_web_sm==2.3.1) (1.0.0)\n",
      "Requirement already satisfied: urllib3!=1.25.0,!=1.25.1,<1.26,>=1.21.1 in /home/lorena/anaconda3/envs/my_env/lib/python3.8/site-packages (from requests<3.0.0,>=2.13.0->spacy<2.4.0,>=2.3.0->en_core_web_sm==2.3.1) (1.25.10)\n",
      "Requirement already satisfied: idna<3,>=2.5 in /home/lorena/anaconda3/envs/my_env/lib/python3.8/site-packages (from requests<3.0.0,>=2.13.0->spacy<2.4.0,>=2.3.0->en_core_web_sm==2.3.1) (2.10)\n",
      "Requirement already satisfied: certifi>=2017.4.17 in /home/lorena/anaconda3/envs/my_env/lib/python3.8/site-packages (from requests<3.0.0,>=2.13.0->spacy<2.4.0,>=2.3.0->en_core_web_sm==2.3.1) (2020.6.20)\n",
      "Requirement already satisfied: chardet<4,>=3.0.2 in /home/lorena/anaconda3/envs/my_env/lib/python3.8/site-packages (from requests<3.0.0,>=2.13.0->spacy<2.4.0,>=2.3.0->en_core_web_sm==2.3.1) (3.0.4)\n",
      "Building wheels for collected packages: en-core-web-sm\n",
      "  Building wheel for en-core-web-sm (setup.py) ... \u001b[?25ldone\n",
      "\u001b[?25h  Created wheel for en-core-web-sm: filename=en_core_web_sm-2.3.1-py3-none-any.whl size=12047105 sha256=becbc867e6d600c3a3c9c8ffc510fad52403c20e3ab623f75c89571162895d9d\n",
      "  Stored in directory: /tmp/pip-ephem-wheel-cache-3mvii00x/wheels/ee/4d/f7/563214122be1540b5f9197b52cb3ddb9c4a8070808b22d5a84\n",
      "Successfully built en-core-web-sm\n",
      "Installing collected packages: en-core-web-sm\n",
      "Successfully installed en-core-web-sm-2.3.1\n",
      "\u001b[38;5;2m✔ Download and installation successful\u001b[0m\n",
      "You can now load the model via spacy.load('en_core_web_sm')\n"
     ]
    }
   ],
   "source": [
    "#!python -m spacy download en_core_web_sm"
   ]
  },
  {
   "cell_type": "code",
   "execution_count": 21,
   "metadata": {},
   "outputs": [
    {
     "output_type": "stream",
     "name": "stdout",
     "text": [
      "['thereafter', 'neither', 'what', 'put', 'while', 'herself', '’re', 'than', 'indeed', 'across', 'each', 'these', 'except', 'full', 'more', 'now', 'were', 'being', 'below', 'take', 'made', 'well', 'anyhow', 'go', 'via', 'latter', 'after', 'otherwise', 'whatever', 'in', 'nowhere', 'out', 'formerly', 'might', 'who', 'became', 'never', 'around', 'amongst', 'hence', 'give', \"'re\", 'none', '’d', 'therein', 'call', 'once', 'hereby', \"'m\", 'those', 'former', 'was', 'less', \"'ll\", 'get', 'on', 'anywhere', 'else', 'why', 'every', '‘m', 'its', 'him', 'to', 'during', 'enough', 'per', 'still', 'side', 'that', 'had', 'cannot', '‘ve', 'n‘t', 'eleven', 'his', 'either', 'thereupon', 'together', 'four', 'hers', 'where', 'are', 'with', 'everything', 'few', 'beside', 'show', 'one', 'about', 'really', 'does', 'due', 'nevertheless', 'against', 'both', 'for', 'becoming', 'say', 'name', 'many', 'ours', 'everyone', 'nothing', 'sometimes', 'has', 'though', 'only', 'but', 'something', 'whoever', 'yourselves', 'various', 'anything', 'been', 'last', 'here', '’m', 'and', 'always', 'thus', 'we', 'which', 'twelve', 'towards', 'next', 'six', 'please', 'ten', 'is', 'often', 'would', '‘s', '’ve', 'have', 'rather', 'us', 'quite', 'much', 'others', 'seemed', 'the', 'she', 'also', 'bottom', 'noone', 'yourself', 'moreover', 'up', 'upon', 'anyway', 'some', 'because', 'myself', 'they', 'my', 'or', 'off', 'alone', 'too', 'just', 'seems', 'own', 'themselves', 'down', 'empty', 'however', 'when', 'onto', 'latterly', 'see', 'seeming', 'further', 'five', 'must', 'somehow', 'as', 'thence', 'therefore', 'used', 'ourselves', 'this', 'no', 'whereupon', 'top', 'forty', 'most', 'somewhere', 'part', 'such', 'ca', 'yours', 'whence', 'everywhere', 'thereby', 'since', 'three', 'yet', 're', 'namely', 'anyone', 'whole', 'n’t', 'at', 'am', 'over', 'above', 'hundred', 'mine', 'wherein', 'could', '’ll', 'then', 'whose', 'if', 'nine', 'several', 'do', 'into', 'keep', 'become', 'back', 'all', 'through', 'between', 'nor', 'any', 'may', 'amount', 'of', 'thru', 'along', 'can', 'eight', 'other', 'move', 'first', 'will', 'hereafter', 'be', 'whether', 'again', 'himself', 'using', 'it', 'third', \"n't\", 'someone', 'mostly', 'an', 'from', 'doing', 'another', 'serious', 'your', 'whereby', 'he', 'besides', 'how', 'nobody', 'me', 'perhaps', 'becomes', 'whereafter', 'whereas', 'toward', 'there', 'her', 'even', 'until', 'already', 'sometime', '’s', 'under', 'whom', 'wherever', 'almost', 'i', \"'ve\", 'our', 'should', 'two', 'not', 'fifty', 'afterwards', 'a', 'without', 'you', 'their', 'hereupon', 'before', 'done', 'seem', 'so', 'very', \"'d\", 'behind', 'unless', 'although', 'throughout', 'regarding', 'herein', 'make', 'by', 'least', '‘re', 'them', '‘d', 'same', 'ever', 'among', 'front', 'whither', 'whenever', 'did', '‘ll', 'fifteen', \"'s\", 'within', 'elsewhere', 'itself', 'beyond', 'beforehand', 'sixty', 'meanwhile', 'twenty']\n"
     ]
    }
   ],
   "source": [
    "nlp = en_core_web_sm.load()\n",
    "#nlp = spacy.load('en')\n",
    "\n",
    "#build a list of stop words for filtering\n",
    "stopwords = list(STOP_WORDS)\n",
    "print(stopwords)"
   ]
  },
  {
   "source": [
    "## PREPROCESSING"
   ],
   "cell_type": "markdown",
   "metadata": {}
  },
  {
   "cell_type": "code",
   "execution_count": 22,
   "metadata": {},
   "outputs": [],
   "source": [
    "import string\n",
    "punctuations = string.punctuation\n",
    "\n",
    "#create a Spacy Parser\n",
    "from spacy.lang.en import English\n",
    "parser = English()"
   ]
  },
  {
   "cell_type": "code",
   "execution_count": 42,
   "metadata": {},
   "outputs": [],
   "source": [
    "#create a tokenizer function\n",
    "def spacy_tokenizer(sentence):\n",
    "    # Creating our token object, which is used to create documents with linguistic annotations.\n",
    "    mytokens = parser(sentence)\n",
    "\n",
    "    # Lemmatizing each token and converting each token into lowercase\n",
    "    mytokens = [word.lemma_.lower().strip() if word.lemma_ != \"-PRON-\" else word.lower_ for word in mytokens]\n",
    "\n",
    "    # Removing stop words\n",
    "    mytokens = [word for word in mytokens if word not in stopwords and word not in punctuations]\n",
    "\n",
    "    # return preprocessed list of tokens\n",
    "    return mytokens"
   ]
  },
  {
   "cell_type": "code",
   "execution_count": 43,
   "metadata": {},
   "outputs": [],
   "source": [
    "# Custom transformer using spaCy\n",
    "\n",
    "class predictors(TransformerMixin):\n",
    "    def transform(self, X, **transform_params):\n",
    "        # Cleaning Text\n",
    "        return [clean_text(text) for text in X]\n",
    "\n",
    "    def fit(self, X, y=None, **fit_params):\n",
    "        return self\n",
    "\n",
    "    def get_params(self, deep=True):\n",
    "        return {}\n",
    "\n",
    "# Basic function to clean the text\n",
    "def clean_text(text):\n",
    "    # Removing spaces and converting text into lowercase\n",
    "    return text.strip().lower()"
   ]
  },
  {
   "cell_type": "code",
   "execution_count": 44,
   "metadata": {},
   "outputs": [],
   "source": [
    "#\n",
    "bow_vector = CountVectorizer(tokenizer = spacy_tokenizer, ngram_range=(1,1))\n",
    "\n",
    "#\n",
    "tfidf_vector = TfidfVectorizer(tokenizer = spacy_tokenizer)"
   ]
  },
  {
   "source": [
    "## CLASSIFICATION"
   ],
   "cell_type": "markdown",
   "metadata": {}
  },
  {
   "cell_type": "code",
   "execution_count": 45,
   "metadata": {},
   "outputs": [],
   "source": [
    "from sklearn.model_selection import train_test_split\n",
    "\n",
    "X = df_en['Review Text'] # the features we want to analyze\n",
    "y = df_en['Recommended IND'] # the labels, or answers, we want to test against\n",
    "\n",
    "X_train, X_test, y_train, y_test = train_test_split(X, y, test_size=0.3, random_state=42)"
   ]
  },
  {
   "source": [
    "## Logistic Regression"
   ],
   "cell_type": "markdown",
   "metadata": {}
  },
  {
   "cell_type": "code",
   "execution_count": 49,
   "metadata": {},
   "outputs": [
    {
     "output_type": "execute_result",
     "data": {
      "text/plain": [
       "Pipeline(steps=[('cleaner', <__main__.predictors object at 0x7fa7aed5a5e0>),\n",
       "                ('vectorizer',\n",
       "                 CountVectorizer(tokenizer=<function spacy_tokenizer at 0x7fa7af987af0>)),\n",
       "                ('classifier', LogisticRegression())])"
      ]
     },
     "metadata": {},
     "execution_count": 49
    }
   ],
   "source": [
    "# Logistic Regression Classifier\n",
    "\n",
    "lr = LogisticRegression()\n",
    "\n",
    "# Create pipeline using Bag of Words\n",
    "pipe = Pipeline([(\"cleaner\", predictors()),\n",
    "                 ('vectorizer', bow_vector),\n",
    "                 ('classifier', lr)])\n",
    "\n",
    "# model generation\n",
    "pipe.fit(X_train, y_train)"
   ]
  },
  {
   "cell_type": "code",
   "execution_count": 72,
   "metadata": {},
   "outputs": [
    {
     "output_type": "execute_result",
     "data": {
      "text/plain": [
       "                                         Review Text  Recommended IND  \\\n",
       "0  Absolutely wonderful - silky and sexy and comf...                1   \n",
       "1  Love this dress!  it's sooo pretty.  i happene...                1   \n",
       "2  I had such high hopes for this dress and reall...                0   \n",
       "3  I love, love, love this jumpsuit. it's fun, fl...                1   \n",
       "4  This shirt is very flattering to all due to th...                1   \n",
       "\n",
       "   pred_lsvc  pred_lr  \n",
       "0        1.0      1.0  \n",
       "1        1.0      1.0  \n",
       "2        1.0      1.0  \n",
       "3        0.0      0.0  \n",
       "4        1.0      1.0  "
      ],
      "text/html": "<div>\n<style scoped>\n    .dataframe tbody tr th:only-of-type {\n        vertical-align: middle;\n    }\n\n    .dataframe tbody tr th {\n        vertical-align: top;\n    }\n\n    .dataframe thead th {\n        text-align: right;\n    }\n</style>\n<table border=\"1\" class=\"dataframe\">\n  <thead>\n    <tr style=\"text-align: right;\">\n      <th></th>\n      <th>Review Text</th>\n      <th>Recommended IND</th>\n      <th>pred_lsvc</th>\n      <th>pred_lr</th>\n    </tr>\n  </thead>\n  <tbody>\n    <tr>\n      <th>0</th>\n      <td>Absolutely wonderful - silky and sexy and comf...</td>\n      <td>1</td>\n      <td>1.0</td>\n      <td>1.0</td>\n    </tr>\n    <tr>\n      <th>1</th>\n      <td>Love this dress!  it's sooo pretty.  i happene...</td>\n      <td>1</td>\n      <td>1.0</td>\n      <td>1.0</td>\n    </tr>\n    <tr>\n      <th>2</th>\n      <td>I had such high hopes for this dress and reall...</td>\n      <td>0</td>\n      <td>1.0</td>\n      <td>1.0</td>\n    </tr>\n    <tr>\n      <th>3</th>\n      <td>I love, love, love this jumpsuit. it's fun, fl...</td>\n      <td>1</td>\n      <td>0.0</td>\n      <td>0.0</td>\n    </tr>\n    <tr>\n      <th>4</th>\n      <td>This shirt is very flattering to all due to th...</td>\n      <td>1</td>\n      <td>1.0</td>\n      <td>1.0</td>\n    </tr>\n  </tbody>\n</table>\n</div>"
     },
     "metadata": {},
     "execution_count": 72
    }
   ],
   "source": [
    "kleidung_pred_lr = pd.DataFrame(pred_lr)\n",
    "df_en['pred_lr'] = kleidung_pred_lr\n",
    "df_en.head()"
   ]
  },
  {
   "cell_type": "code",
   "execution_count": 68,
   "metadata": {},
   "outputs": [
    {
     "output_type": "stream",
     "name": "stdout",
     "text": [
      "Logistic Regression train score: 0.9565085158150851\n",
      "Logistic Regression test score: 1.0\n"
     ]
    }
   ],
   "source": [
    "pred_lr = pipe.predict(X_test)\n",
    "\n",
    "# Model Accuracy\n",
    "print(\"Logistic Regression train score:\", pipe.score(X_train, y_train))\n",
    "print(\"Logistic Regression test score:\", pipe.score(X_test, pred_lr))"
   ]
  },
  {
   "source": [
    "## Linear SVC"
   ],
   "cell_type": "markdown",
   "metadata": {}
  },
  {
   "cell_type": "code",
   "execution_count": 55,
   "metadata": {},
   "outputs": [],
   "source": [
    "# Vectorization\n",
    "vectorizer = CountVectorizer(tokenizer = spacy_tokenizer, ngram_range=(1,1)) \n",
    "lsvc = LinearSVC()"
   ]
  },
  {
   "cell_type": "code",
   "execution_count": 56,
   "metadata": {
    "collapsed": true,
    "jupyter": {
     "outputs_hidden": true
    },
    "tags": [
     "outputPrepend"
    ]
   },
   "outputs": [
    {
     "output_type": "stream",
     "name": "stdout",
     "text": [
      "ty sizing. but i love them super cute and comfortable. i wish they had more colors available. these were a great buy! Prediction=> 1\n",
      "When i tried these on in the store in my size, but thought they felt tight, but the person helping me pointed out that they hug you, but are not uncomfortable. i uncuff the bottom and wear them full-length. ended up buying one of each color. Prediction=> 1\n",
      "I was so ready to love this dress but it runs extremely small - like you should maybe purchase a size 2 sizes bigger than what you normally wear. Prediction=> 1\n",
      "This shirt was very cute. i ordered it as something to be able to wear to class with leggings and it is perfect. the colors are great and the length is very nice. it will be a nice piece to layer with a jacket for the the fall. Prediction=> 1\n",
      "This skirt is so flattering and comfortable! Prediction=> 1\n",
      "I love these pants so much and have worn them so many times in a week! they are comfy and causal, but still chic and presentable. these pants run true to size and are great for so many things- running errands, working out, lounging around, being casual and cool, etc., etc, etc! after buying these on sale, and loving them, i knew i needed more and purchased two more pairs. i definitely recommend these for anyone who wants both comfort and style. Prediction=> 1\n",
      "This is a great quality top. it did not look great on me, since i am quite top heavy. but is lovely. Prediction=> 1\n",
      "I'm 5' 2\" and 110 lbs. i ordered this in xsp but it was a lot shorter in the front than led to believe from the photo. it was also a little baggy on top. otherwise, i love the material, shimmer and overall look. i will be exchanging this for a regular xxs. Prediction=> 1\n",
      "nan Prediction=> 1\n",
      "I loved these shorts; however, they seemed to be doomed! i received these on july 2nd & wore them at for a party we had on july 3rd, with the top shown. the fit was true to size, style & quality were nice. during the day i first ripped them on a low arbor gate latch, then later they were splashed with red wine when my husband startled me & i threw my red wine in the air. typically, i am very careful and do no have an issue with ruining my clothes. he felt so bad he asked me to get a new pair. i Prediction=> 0\n",
      "This dress is beautiful but the bottom half was too tight for my shape. Prediction=> 0\n",
      "I saw this online and didn't think twice about it but then i came across it at my local store and it's so much better in person! it is incredibly soft and cozy! i purchased the gray stripe version and two solid color versions (cream/forrest green.) i can see this being a great staple over the fall/winter with leggings, boots and a long pendant. Prediction=> 1\n",
      "I just received this in the wine color and it's gorgeous! it fits well and is very pretty. it can be dressed up or down. i can't wait until the weather warms up and i get to wear this. i have already ordered the other color! great purchase. Prediction=> 1\n",
      "I tried this in my normal sp. i found it to run a little snug, but the neckline was way too low for every-day wear. Prediction=> 1\n",
      "I liked the jeans, but exchanges them for ag's stevie ankle jeans due to the difference in length. i love pilcro, but these were just a bit too long on me. Prediction=> 1\n",
      "Nice jeans, but had to return. too tight in hips/thighs and big in waist. Prediction=> 1\n",
      "I just got this in xs/s at my store and i love it. i have a petite frame (5'3\", +/- 105 lbs) so it's much longer on me than on the models. and the one i got is much more saturated with dye on the front than what's shown in retailer's pics, so that may vary a bit. however, the back of mine looks exactly like what's shown above. i love the drape and the way it falls on me; super casual-chic in my opinion. i'd say the color is deep teal. wish it wasn't hand wash, but sometimes that's worth it. Prediction=> 1\n",
      "Love this top! has a beautiful shape, and it wasn't too long on my 5'3\" frame. puella always makes items with lovely, soft cotton, and this is no exception! awesome piece for summer! Prediction=> 1\n",
      "I bought this shirt after reading so many positive reviews. it looks much thinner and cheaper than the photo depicts.  like many reviewers have said, it does hit just above midriff but the fringe covers your belly.  it didn&#39;t hang right on me and i felt like i was wearing a rug. Prediction=> 0\n",
      "At first i was interested. i liked the color, the soft tencel fabric, the cut in the back. it was all good. they didn't have my size in the store so i had to order it. when it arrived in the mail it was folded up and wrinkled. i tried it on and it looked like a lifeless unstructured blazer. i sent it back. \n",
      "all in all, it is cute and fun for warm weather. it is definitely a casual blazer. i'd probably wait for a sale on this one.\n",
      "it does run tts. Prediction=> 1\n",
      "This is the mid-weight fall/spring jacket i had designed for myself in my head! someone got into my head and made it! really - i could not have dreamed up a lovelier jacket. it fits like a glove, it's absolutely the softest thing ever, and the (removable) lining is far warmer and plusher than i expected (i wore it out tonight on a a clear, cold night - i felt like i was wearing a hug). nice, feminine waistline and pockets in all the right places round it all out. i look forward to unbuttoning th Prediction=> 1\n",
      "This dress is lovely and has a comfy fit. the green color is gorgeous. i felt the sizing was large and sent it back. Prediction=> 1\n",
      "I purchased this top in the blue stripe and red. after washing the red top, it lost color in little spots and also has little holes along the seams. the blue washed fine. overall, it is a very cute top and great for summer. Prediction=> 1\n",
      "I love this tank top...the fringe on the bottom is fun, and i've gotten many compliments on it already...i think it runs true to size :-) Prediction=> 1\n",
      "I ordered the navy/gray combo in size xl. it was too heavy and uncomfortable to wear. it also attracted so much lint. the one i received must have come from a store because it already had a lot of fuzz on it. it added weight and was unflattering for my shape. the colors do match the photos online. the length also matches the model's photos. it just didn't work for me. Prediction=> 1\n",
      "Wore it to a cousins wedding. loved it! probably one of the best dresses that i have ever worn. lots of compliments. felt great dancing the night away. Prediction=> 1\n",
      "This shirt is nothing like the online pictures. it's a stunner in person. ended up with the black one though i was torn between it and the white. i would agree with some other reviewers that it has little to no give across the chest so i bought a l due to broad shoulders. the m fit like a glove and i was afraid it might tear if i raised arms or reached for something. not sure if a large busted girl would be comfortable. though i sized up, it didn't affect the way it hangs and it hangs beautifull Prediction=> 0\n",
      "Love! i am 5'3\" 118lbs with short legs and a long torso. i was worried these would be too long....they fit to perfection! super excited about this purchase Prediction=> 1\n",
      "I tried this dress on today and ended up buying it. its a thicker material and looks better in person. more red and white striped with an uneven hem. the back of the dress is a bit more like a swim suit. i probably is best for smaller chests. i'm guessing it runs a little bit big - as the medium fit nicely on me and lately i'm a large medium/small large. Prediction=> 1\n",
      "I absolutely love the look and fit of these pants. what is even better is that they don't stretch out while wearing them. i will get a lot of use out of them! Prediction=> 1\n",
      "These tights have a nice pattern and color. they look just like the photograph. they are warm and because they are warm they have wool in them and they are a little itchy. but, that's the price you pay for warmth. i own several pairs of retailer tights and love the patterns (foxes, scotty dogs, and now trees). . Prediction=> 1\n",
      "Excited to get this sweater! i'm a 38c and usually wear a size 14 blouse so i ordered an xl as i don't like clingy sweaters. this was perfect; fitted but not tight. i'll be able to wear this with jeans and cute boots for lunches or nice slacks and heels for a dinner date. wish i could've gotten it for the 25% off + free s/h but glad i didn't wait - this size was sold out first. Prediction=> 1\n",
      "Love the lace back panel, unique design. would not call this blue....definitely more of a grey color, but it is pretty! got size small and it fit well. 5'6\" 140 lbs. Prediction=> 1\n",
      "This tee is amazing! it is so soft and comfortable. and is great for those of us who are tall, it has great length! i went with a medium because i didn't want it too tight. i really hope that retailer restocks soon because i want to buy one in every color! Prediction=> 1\n",
      "Beautiful skirt! dress up or down! colors are lovely and enable one to wear many different tops. lightweight. perfect for casual or summertime work. Prediction=> 1\n",
      "I really wanted to love this sweater. the quality is good and it looks beautiful - until you need to lift your arms. i did end up keeping it but it is limited to when and where i can wear it due to the arm restrictions. i can see it in the picture but didn't notice until purchasing - the arm holes and right next to the bottom of the sweater. slight design flaw. Prediction=> 1\n",
      "I absolutely love these shorts!!! everything about them is perfect!! i have them in almost every color. they wash beautifully. i don't dry my shorts in the dryer. they fit the same as last years'. i'm thin & pretty straight with little hips. i wear them in a size 28. i tried the 27 & they felt a little snug. i don't like my shorts tight & i like when they can hang down a little with a belt or not (like the model in the picture). i don't find that they stretch out much after wearing but that coul Prediction=> 1\n",
      "I was lucky enough to get these on sale with an additional 40% off, making them a fabulous deal. they are nicely made, and the shade of blue is very pretty. my only complaint, and the reason i'm on the fence is that they are so big. i usually buy a 31 in the ag stevie jeans, occasionally a 32, so i figured i'd be safe sizing down to a 30. wrong. i could have gone to a 29, and possibly even a 28....they're that big! i do like them though, and may just try shrinking them in the dryer. Prediction=> 1\n",
      "I would have loved this tee but the color didn't love me. it's sort of a mustard orange. the embroidery is beautifully done but i felt the size of the yarn tassels were too big and looked a bit odd, but i have a large bust so don't like to draw attention there. it's a sweatshirt and not a tee shirt, but it flows and doesn't grab anywhere. it looked so nice under a jean jacket. if it weren't for the color and tassels, it would be a keeper for me. Prediction=> 1\n",
      "I never ever buy anything full price when it comes to retailer shopping, love their stuff but way over priced so i patiently watch and wait. this dress though i couldn't do it, i had to have it. i think it is a fabulous addition to my summer collection and i look forward to wearing it in a few weeks to a july 4th get away. get it while you can. Prediction=> 1\n",
      "Soft, elegant, beautiful and makes me feel special! what more could one ask for? fit is true to size and has various styling options. best retailer purchase in some time. Prediction=> 1\n",
      "nan Prediction=> 1\n",
      "A cute dress, though waist a little too high (more of an empire waist... hitting at widest part of rib cage). this looks like it should be a stretchy knit dress, but the detailing has no give whatsoever and the dress runs quite small. i usually wear a 00, but though i could get it zipped, it wasn't comfortable, and if i want to keep it, i'll need to size up to a 0. i'm 5'6\", 32b-24-35. Prediction=> 1\n",
      "Love the softness of this sweater - it's very flattering without feeling like i am swimming in it. like the other reviewer said - it sheds a lot! the cream is very sheer so i had to wear a tank underneath. Prediction=> 1\n",
      "I am giving this dress 3 stars bc it's pretty and i bought it, but i'm going to need to get it altered big time. i got the 00 and it's too big on top, but this is the type of dress that should be fitted on top. i am a small person, but this fit more like a 4 or 6. print is beautiful though. wayyy prettier than the pic. i suggest getting 2 sizes down. i could see it being extremely gorgeous if it fits correctly! Prediction=> 1\n",
      "This top is really cute and i love the design. however, the first time i wore it, the waste band started unraveling. Prediction=> 0\n",
      "This is beautiful dress with great fit. i agree with other reviewers that the top is small but works well for my small bust size. the fabric is heavy giving the dress a more sophisticated feel. Prediction=> 1\n",
      "This cardigan was a keeper for me. i love the pin that pulls the two sides together or worn open is just a nice decoration. four starts only because i felt like the arms ran a little short. Prediction=> 1\n",
      "I was very impressed upon receiving this dress. i'm 5'3, 102lbs and ordered xs. fit perfect. i am also a 32dd, so if you are smaller than a d or big c, the top portion might be a little big for you. love how it is lined so you could technically wear without a bra. i bought the tangerine and have gotten many complements. Prediction=> 1\n",
      "nan Prediction=> 1\n",
      "Love the fit. nice and warm and good quality material. Prediction=> 1\n",
      "I ordered this in white. the material is similar to a polo shirt, which i hadn't counted on. it was also on the large size and just unflattering on me. still, the quality seemed to be good. Prediction=> 0\n",
      "This skirt for sure was the most disappointing thing i've ever ordered from retailer. it looks like an all white skirt that has a little stiffness to it but looks are deceiving. it has this weird checkered patten and there is no shape to the skirt at all. there are also weird stitching lines. one more thing that i didn't like about the skirt was that it's a cream-ish color. not even the cute flamingos will make me keep this skirt. it's going back. Prediction=> 0\n",
      "The fabric is really soft and the cardi has a cute and comfy slouchy, loose fit. reminds me of free people cardis with the extra long sleeves and loose fit. great to throw on over workout clothes or with jeans and a tee shirt. easy piece. would size down. i'm getting lots of use out of it. Prediction=> 1\n",
      "Really wanted to like this and took chances based on other reviews, even with the sale price and addtl discount. it's basically $30 blouse fabric with design and detail-work of a much more expensive blouse. the white is sheer and and fabric will wrinkle easily. if it were black, you could probably get away with it, but the white shows too many flaws and will wrinkle. sad to have to send it back. Prediction=> 0\n",
      "Surprisingly versatile and figure flattering without being too clingy and revealing like so many \"bandage\" dresses. the navy color softens the stripes. great piece for travel as it is light and does not wrinkle. i am 5'7\" and 125 lbs. with a smaller chest and curvy hips. the small fits perfectly. Prediction=> 1\n",
      "I thought the dress in store for true to size and was a bit more 'swinging' style. i am 5'7, athletic and the small fit perfect. Prediction=> 1\n",
      "nan Prediction=> 1\n",
      "nan Prediction=> 1\n",
      "This is a great dress, i feel like it hides any imperfect spots including some armpit fat or belly fat. i have gotten several compliments on this dress because the stitching for the flowers is very high quality! Prediction=> 0\n",
      "This shirt is beautiful and so soft. it would have made a wonderful long-sleeved tee except for the fact that it was so low cut. the only way this is wearable is with a tank underneath which, for me, defeats the purpose of this type of shirt. i am rather busty (34 dd), so maybe if you are smaller on top you might could pull it off. Prediction=> 1\n",
      "I bought this on sale. the cools on the bird pattern are beautiful and i liked the detail on the sleeves. a little see through, but ok with a nude bra or tank underneath. Prediction=> 1\n",
      "This sweater poncho is a nice versatile piece to wear in the fall. wear a blouse or tee under for extra warmth for the maine winters. love the side buttons and the uniqueness of this poncho. true to size, great color. lot's of compliments. Prediction=> 1\n",
      "Runs really large. i am 5'4\", 120lbs, 32c, and had to exchange xs for xxs for width, but then the sleeves were a little tight. decided to keep the xxs in white. Prediction=> 1\n",
      "Love this dress!  it has a nice stretchy weight to it and is texturally interesting. it's the first retailer piece that i ever bought my teenage daughter and she looks so sophisticated in it, like a young lady. it's both classy and youthful!  for reference, she's 5'5 100# and is wearing a 00. Prediction=> 1\n",
      "It is very sheer which is too bad because the design is super cute. Prediction=> 1\n",
      "I love this shirt. i have it in red. i found the fit tts and looks great casually with a scarf or dressed up with a nice necklace. you can't go wrong with a cute shirt that is soft. i like the length goes just past my bottom in the back but not overwhelming. Prediction=> 1\n",
      "This top is flowy and feminine. the pink is slightly more vivid than pictured online but is still a beautiful, soft pink (definitely not red). i was afraid the shape would be unflattering on my not-so-skinny figure but it's not. it's baggy all over, and there's plenty of room in the arms. note that dark pants/skirts will show through the fabric, so i like the shirt better with an untucked cami/tank top underneath it (so the gorgeous neckline isn't disturbed but the pink color runs true throughou Prediction=> 1\n",
      "I ordered this in size xl. it fits true to size. it does have a boat neckline which runs a little tight on me. but, everything else feels comfortable. i know this isn't a flattering style. horizontal stripes on my plus-sized, pear-shape isn't my favorite. but, i love the back. the knot isn't very comfortable to lean against. i just love the lace in the back that i wear it when running short errands where i don't have to lean back a lot. it does need a tank underneath or it's see-through in the b Prediction=> 1\n",
      "Believe the reviews - this dress is very flattering, great quality, and an excellent print (i got the polka dot). i was concerned about the wrap front since i am busty - 32dd - but this looks great, is appropriate for work. love! Prediction=> 1\n",
      "This dress is extremely feminine. the liner is the unsung hero here: it's cleverly designed to be fitted because on a windy day and the dress flies up, it's a saving grace; it has snap buttons and can be detached, the fabric is opaque so the dress is not see-through. the fabric of the dress is sheer, soft and smooth, and i thought it was silk until i read the tag which listed as viscose. the details of this dress is breathtaking, from the flower design (check out the bottom horizontal lines of t Prediction=> 1\n",
      "I think i received a mislabeled vest?? when i opened the package, i thought it was some sort of joke!  i was expecting what the stock photos show, a longer length flowy sweater vest.... mine was literally child sized. i'm not a big person at all.. i'm 5'6\", 135 lbs, and wear a 6/8. i ordered this in a m/l, thinking i would like it loose. i tried it on thinking, maybe it will look longer once on.. no.. not even. i looked ridiculous. the front hit above the waist of my jeans and the back hit middl Prediction=> 0\n",
      "This dress has a beautiful purple paisley print and reminds me of classic retailer from years ago. i wanted to love the dress but it runs extremely large. i usually wear a 00p or xxsp and got this in an xxsp but was still way too big. while the intent is to be flowy, i was overwhelmed by the bagginess and it changes the style from flowy to bag-like. while the belt helps cinch the waist, i had too much bunching in the waist area making it unattractive. very disappointed as its such a pretty Prediction=> 1\n"
     ]
    }
   ],
   "source": [
    "pipe_countvect = Pipeline([(\"cleaner\", predictors()),\n",
    "                 ('vectorizer', vectorizer),\n",
    "                 ('classifier', lsvc)])\n",
    "\n",
    "pipe_countvect.fit(X_train,y_train)\n",
    "\n",
    "pred_lsvc = pipe_countvect.predict(X_test)\n",
    "\n",
    "for (sample, pred) in zip(X_test, pred_lsvc):\n",
    "    print(sample,\"Prediction=>\", pred)"
   ]
  },
  {
   "cell_type": "code",
   "execution_count": 59,
   "metadata": {},
   "outputs": [
    {
     "output_type": "execute_result",
     "data": {
      "text/plain": [
       "   0\n",
       "0  1\n",
       "1  1\n",
       "2  1\n",
       "3  0\n",
       "4  1"
      ],
      "text/html": "<div>\n<style scoped>\n    .dataframe tbody tr th:only-of-type {\n        vertical-align: middle;\n    }\n\n    .dataframe tbody tr th {\n        vertical-align: top;\n    }\n\n    .dataframe thead th {\n        text-align: right;\n    }\n</style>\n<table border=\"1\" class=\"dataframe\">\n  <thead>\n    <tr style=\"text-align: right;\">\n      <th></th>\n      <th>0</th>\n    </tr>\n  </thead>\n  <tbody>\n    <tr>\n      <th>0</th>\n      <td>1</td>\n    </tr>\n    <tr>\n      <th>1</th>\n      <td>1</td>\n    </tr>\n    <tr>\n      <th>2</th>\n      <td>1</td>\n    </tr>\n    <tr>\n      <th>3</th>\n      <td>0</td>\n    </tr>\n    <tr>\n      <th>4</th>\n      <td>1</td>\n    </tr>\n  </tbody>\n</table>\n</div>"
     },
     "metadata": {},
     "execution_count": 59
    }
   ],
   "source": [
    "#create a dataframe with the predictions\n",
    "\n",
    "kleidung_pred_lsvc = pd.DataFrame(pred_lsvc)\n",
    "kleidung_pred_lsvc.head()"
   ]
  },
  {
   "cell_type": "code",
   "execution_count": 73,
   "metadata": {},
   "outputs": [
    {
     "output_type": "execute_result",
     "data": {
      "text/plain": [
       "                                         Review Text  Recommended IND  \\\n",
       "0  Absolutely wonderful - silky and sexy and comf...                1   \n",
       "1  Love this dress!  it's sooo pretty.  i happene...                1   \n",
       "2  I had such high hopes for this dress and reall...                0   \n",
       "3  I love, love, love this jumpsuit. it's fun, fl...                1   \n",
       "4  This shirt is very flattering to all due to th...                1   \n",
       "\n",
       "   pred_lsvc  pred_lr  \n",
       "0        1.0      1.0  \n",
       "1        1.0      1.0  \n",
       "2        1.0      1.0  \n",
       "3        0.0      0.0  \n",
       "4        1.0      1.0  "
      ],
      "text/html": "<div>\n<style scoped>\n    .dataframe tbody tr th:only-of-type {\n        vertical-align: middle;\n    }\n\n    .dataframe tbody tr th {\n        vertical-align: top;\n    }\n\n    .dataframe thead th {\n        text-align: right;\n    }\n</style>\n<table border=\"1\" class=\"dataframe\">\n  <thead>\n    <tr style=\"text-align: right;\">\n      <th></th>\n      <th>Review Text</th>\n      <th>Recommended IND</th>\n      <th>pred_lsvc</th>\n      <th>pred_lr</th>\n    </tr>\n  </thead>\n  <tbody>\n    <tr>\n      <th>0</th>\n      <td>Absolutely wonderful - silky and sexy and comf...</td>\n      <td>1</td>\n      <td>1.0</td>\n      <td>1.0</td>\n    </tr>\n    <tr>\n      <th>1</th>\n      <td>Love this dress!  it's sooo pretty.  i happene...</td>\n      <td>1</td>\n      <td>1.0</td>\n      <td>1.0</td>\n    </tr>\n    <tr>\n      <th>2</th>\n      <td>I had such high hopes for this dress and reall...</td>\n      <td>0</td>\n      <td>1.0</td>\n      <td>1.0</td>\n    </tr>\n    <tr>\n      <th>3</th>\n      <td>I love, love, love this jumpsuit. it's fun, fl...</td>\n      <td>1</td>\n      <td>0.0</td>\n      <td>0.0</td>\n    </tr>\n    <tr>\n      <th>4</th>\n      <td>This shirt is very flattering to all due to th...</td>\n      <td>1</td>\n      <td>1.0</td>\n      <td>1.0</td>\n    </tr>\n  </tbody>\n</table>\n</div>"
     },
     "metadata": {},
     "execution_count": 73
    }
   ],
   "source": [
    "df_en['pred_lsvc'] = kleidung_pred_lsvc\n",
    "df_en.head()"
   ]
  },
  {
   "cell_type": "code",
   "execution_count": 61,
   "metadata": {},
   "outputs": [
    {
     "output_type": "stream",
     "name": "stdout",
     "text": [
      "SVC train accuracy: 0.9856447688564477\n",
      "SVC test accuracy: 0.8646040306556911\n",
      "SVC prediction accuracy: 1.0\n"
     ]
    }
   ],
   "source": [
    "# Model evaluation\n",
    "\n",
    "print(\"SVC train accuracy:\", pipe_countvect.score(X_train, y_train))\n",
    "print(\"SVC test accuracy:\", pipe_countvect.score(X_test, y_test))\n",
    "print(\"SVC prediction accuracy:\", pipe_countvect.score(X_test, pred_lsvc))"
   ]
  },
  {
   "cell_type": "markdown",
   "metadata": {},
   "source": [
    "## Analysis of German reviews"
   ]
  },
  {
   "cell_type": "code",
   "execution_count": 74,
   "metadata": {},
   "outputs": [
    {
     "output_type": "execute_result",
     "data": {
      "text/plain": [
       "                                      Review Text DE  Recommended IND\n",
       "0    Absolut wundervoll - seidig und sexy und bequem                1\n",
       "1  Liebe dieses Kleid! es ist sooo hübsch. Ich fa...                1\n",
       "2  Ich hatte so große Hoffnungen auf dieses Kleid...                0\n",
       "3  Ich liebe, liebe, liebe diesen Overall. Es mac...                1\n",
       "4  Dieses Shirt ist aufgrund der verstellbaren Fr...                1"
      ],
      "text/html": "<div>\n<style scoped>\n    .dataframe tbody tr th:only-of-type {\n        vertical-align: middle;\n    }\n\n    .dataframe tbody tr th {\n        vertical-align: top;\n    }\n\n    .dataframe thead th {\n        text-align: right;\n    }\n</style>\n<table border=\"1\" class=\"dataframe\">\n  <thead>\n    <tr style=\"text-align: right;\">\n      <th></th>\n      <th>Review Text DE</th>\n      <th>Recommended IND</th>\n    </tr>\n  </thead>\n  <tbody>\n    <tr>\n      <th>0</th>\n      <td>Absolut wundervoll - seidig und sexy und bequem</td>\n      <td>1</td>\n    </tr>\n    <tr>\n      <th>1</th>\n      <td>Liebe dieses Kleid! es ist sooo hübsch. Ich fa...</td>\n      <td>1</td>\n    </tr>\n    <tr>\n      <th>2</th>\n      <td>Ich hatte so große Hoffnungen auf dieses Kleid...</td>\n      <td>0</td>\n    </tr>\n    <tr>\n      <th>3</th>\n      <td>Ich liebe, liebe, liebe diesen Overall. Es mac...</td>\n      <td>1</td>\n    </tr>\n    <tr>\n      <th>4</th>\n      <td>Dieses Shirt ist aufgrund der verstellbaren Fr...</td>\n      <td>1</td>\n    </tr>\n  </tbody>\n</table>\n</div>"
     },
     "metadata": {},
     "execution_count": 74
    }
   ],
   "source": [
    "kleidung_de = pd.read_csv('kleidung_de.csv')\n",
    "kleidung_de.drop('Unnamed: 0', axis=1, inplace=True)\n",
    "kleidung_de.head()"
   ]
  },
  {
   "cell_type": "code",
   "execution_count": 75,
   "metadata": {},
   "outputs": [],
   "source": [
    "kleidung_de['Review Text DE'] = kleidung_de['Review Text DE'].astype(str)"
   ]
  },
  {
   "cell_type": "code",
   "execution_count": 76,
   "metadata": {},
   "outputs": [
    {
     "output_type": "stream",
     "name": "stdout",
     "text": [
      "Collecting de_core_news_sm==2.3.0\n",
      "  Downloading https://github.com/explosion/spacy-models/releases/download/de_core_news_sm-2.3.0/de_core_news_sm-2.3.0.tar.gz (14.9 MB)\n",
      "\u001b[K     |████████████████████████████████| 14.9 MB 6.3 MB/s \n",
      "\u001b[?25hRequirement already satisfied: spacy<2.4.0,>=2.3.0 in /home/lorena/anaconda3/envs/my_env/lib/python3.8/site-packages (from de_core_news_sm==2.3.0) (2.3.2)\n",
      "Requirement already satisfied: plac<1.2.0,>=0.9.6 in /home/lorena/anaconda3/envs/my_env/lib/python3.8/site-packages (from spacy<2.4.0,>=2.3.0->de_core_news_sm==2.3.0) (1.1.3)\n",
      "Requirement already satisfied: blis<0.5.0,>=0.4.0 in /home/lorena/anaconda3/envs/my_env/lib/python3.8/site-packages (from spacy<2.4.0,>=2.3.0->de_core_news_sm==2.3.0) (0.4.1)\n",
      "Requirement already satisfied: murmurhash<1.1.0,>=0.28.0 in /home/lorena/anaconda3/envs/my_env/lib/python3.8/site-packages (from spacy<2.4.0,>=2.3.0->de_core_news_sm==2.3.0) (1.0.2)\n",
      "Requirement already satisfied: cymem<2.1.0,>=2.0.2 in /home/lorena/anaconda3/envs/my_env/lib/python3.8/site-packages (from spacy<2.4.0,>=2.3.0->de_core_news_sm==2.3.0) (2.0.3)\n",
      "Requirement already satisfied: preshed<3.1.0,>=3.0.2 in /home/lorena/anaconda3/envs/my_env/lib/python3.8/site-packages (from spacy<2.4.0,>=2.3.0->de_core_news_sm==2.3.0) (3.0.2)\n",
      "Requirement already satisfied: wasabi<1.1.0,>=0.4.0 in /home/lorena/anaconda3/envs/my_env/lib/python3.8/site-packages (from spacy<2.4.0,>=2.3.0->de_core_news_sm==2.3.0) (0.8.0)\n",
      "Requirement already satisfied: srsly<1.1.0,>=1.0.2 in /home/lorena/anaconda3/envs/my_env/lib/python3.8/site-packages (from spacy<2.4.0,>=2.3.0->de_core_news_sm==2.3.0) (1.0.2)\n",
      "Requirement already satisfied: catalogue<1.1.0,>=0.0.7 in /home/lorena/anaconda3/envs/my_env/lib/python3.8/site-packages (from spacy<2.4.0,>=2.3.0->de_core_news_sm==2.3.0) (1.0.0)\n",
      "Requirement already satisfied: thinc==7.4.1 in /home/lorena/anaconda3/envs/my_env/lib/python3.8/site-packages (from spacy<2.4.0,>=2.3.0->de_core_news_sm==2.3.0) (7.4.1)\n",
      "Requirement already satisfied: tqdm<5.0.0,>=4.38.0 in /home/lorena/anaconda3/envs/my_env/lib/python3.8/site-packages (from spacy<2.4.0,>=2.3.0->de_core_news_sm==2.3.0) (4.50.0)\n",
      "Requirement already satisfied: requests<3.0.0,>=2.13.0 in /home/lorena/anaconda3/envs/my_env/lib/python3.8/site-packages (from spacy<2.4.0,>=2.3.0->de_core_news_sm==2.3.0) (2.24.0)\n",
      "Requirement already satisfied: setuptools in /home/lorena/anaconda3/envs/my_env/lib/python3.8/site-packages (from spacy<2.4.0,>=2.3.0->de_core_news_sm==2.3.0) (49.6.0.post20200814)\n",
      "Requirement already satisfied: numpy>=1.15.0 in /home/lorena/anaconda3/envs/my_env/lib/python3.8/site-packages (from spacy<2.4.0,>=2.3.0->de_core_news_sm==2.3.0) (1.19.1)\n",
      "Requirement already satisfied: idna<3,>=2.5 in /home/lorena/anaconda3/envs/my_env/lib/python3.8/site-packages (from requests<3.0.0,>=2.13.0->spacy<2.4.0,>=2.3.0->de_core_news_sm==2.3.0) (2.10)\n",
      "Requirement already satisfied: certifi>=2017.4.17 in /home/lorena/anaconda3/envs/my_env/lib/python3.8/site-packages (from requests<3.0.0,>=2.13.0->spacy<2.4.0,>=2.3.0->de_core_news_sm==2.3.0) (2020.6.20)\n",
      "Requirement already satisfied: urllib3!=1.25.0,!=1.25.1,<1.26,>=1.21.1 in /home/lorena/anaconda3/envs/my_env/lib/python3.8/site-packages (from requests<3.0.0,>=2.13.0->spacy<2.4.0,>=2.3.0->de_core_news_sm==2.3.0) (1.25.10)\n",
      "Requirement already satisfied: chardet<4,>=3.0.2 in /home/lorena/anaconda3/envs/my_env/lib/python3.8/site-packages (from requests<3.0.0,>=2.13.0->spacy<2.4.0,>=2.3.0->de_core_news_sm==2.3.0) (3.0.4)\n",
      "Building wheels for collected packages: de-core-news-sm\n",
      "  Building wheel for de-core-news-sm (setup.py) ... \u001b[?25ldone\n",
      "\u001b[?25h  Created wheel for de-core-news-sm: filename=de_core_news_sm-2.3.0-py3-none-any.whl size=14907580 sha256=9485a0933dba309cc19fc22ca2a2a515dea34dc095b79ddd907031339f362720\n",
      "  Stored in directory: /tmp/pip-ephem-wheel-cache-0i7wxr6k/wheels/5d/ea/e9/0d432e5114b7cba534bb0742b7de51e03db174dfb1e3dda87c\n",
      "Successfully built de-core-news-sm\n",
      "Installing collected packages: de-core-news-sm\n",
      "Successfully installed de-core-news-sm-2.3.0\n",
      "\u001b[38;5;2m✔ Download and installation successful\u001b[0m\n",
      "You can now load the model via spacy.load('de_core_news_sm')\n"
     ]
    }
   ],
   "source": [
    "#!python -m spacy download de_core_news_sm"
   ]
  },
  {
   "cell_type": "code",
   "execution_count": 77,
   "metadata": {},
   "outputs": [
    {
     "output_type": "stream",
     "name": "stdout",
     "text": [
      "['gedurft', 'würden', 'alles', 'dürfen', 'demgegenüber', 'gekannt', 'dieselben', 'allein', 'damals', 'werden', 'dann', 'nun', 'dir', 'bei', 'darum', 'wie', 'solchen', 'bereits', 'seinem', 'eines', 'möglich', 'schon', 'uhr', 'dahin', 'trotzdem', 'neue', 'einer', 'allgemeinen', 'kleinen', 'fünfte', 'ende', 'dieser', 'davon', 'sie', 'du', 'dein', 'demgemäß', 'drittes', 'ach', 'demzufolge', 'mein', 'habt', 'anderem', 'in', 'einander', 'überhaupt', 'würde', 'dasein', 'möchte', 'tagen', 'während', 'kurz', 'sechsten', 'sehr', 'vielen', 'große', 'hin', 'welcher', 'infolgedessen', 'übrigens', 'wer', 'grosse', 'wenn', 'sondern', 'ab', 'da', 'dazwischen', 'los', 'grosses', 'ein', 'hat', 'zehnte', 'er', 'denselben', 'ohne', 'weniges', 'wirst', 'indem', 'zum', 'siebenten', 'ihr', 'was', 'dies', 'gute', 'einen', 'bin', 'ganzen', 'als', 'gegenüber', 'hatten', 'sein', 'daß', 'zehntes', 'zur', 'zu', 'schlecht', 'etwa', 'zugleich', 'ausser', 'haben', 'den', 'magst', 'konnte', 'solchem', 'jene', 'ausserdem', 'vor', 'derjenige', 'gemacht', 'einmaleins', 'jedermann', 'zurück', 'jahren', 'mir', 'zuerst', 'uns', 'wollten', 'außerdem', 'zweiter', 'manches', 'gegen', 'diejenigen', 'wohl', 'seit', 'seid', 'viele', 'einiges', 'allen', 'vergangenen', 'eben', 'um', 'sechstes', 'müsst', 'wenigstens', 'zwei', 'großes', 'muß', 'siebentes', 'werde', 'können', 'sah', 'allem', 'konnten', 'tun', 'einmal', 'manche', 'diejenige', 'á', 'zwar', 'endlich', 'desselben', 'ihm', 'ging', 'gehen', 'lieber', 'mehr', 'heisst', 'mögen', 'weit', 'diesem', 'nachdem', 'recht', 'ihn', 'zehn', 'tat', 'zweiten', 'ins', 'darüber', 'kam', 'niemandem', 'noch', 'leider', 'zweite', 'welchen', 'gleich', 'außer', 'darin', 'rund', 'weiter', 'siebente', 'neunten', 'hinter', 'der', 'vielleicht', 'alle', 'wirklich', 'daran', 'beim', 'siebten', 'oft', 'neben', 'dabei', 'mich', 'ihrem', 'seien', 'großen', 'sowie', 'geschweige', 'wahr', 'wen', 'gab', 'dasselbe', 'rechtes', 'erst', 'zusammen', 'achten', 'nichts', 'solcher', 'müssen', 'dass', 'siebter', 'für', 'kannst', 'zehnten', 'euch', 'solang', 'dermassen', 'bis', 'erster', 'fünften', 'geht', 'keinen', 'seinen', 'besten', 'nach', 'dich', 'manchen', 'groß', 'grosser', 'sollte', 'satt', 'kommen', 'warum', 'und', 'achtes', 'deiner', 'ebenso', 'also', 'eigenen', 'weil', 'zweites', 'ag', 'das', 'erste', 'seiner', 'jahre', 'ganz', 'weniger', 'gesagt', 'gibt', 'denen', 'dieses', 'waren', 'wollt', 'über', 'neuen', 'tage', 'auch', 'diesen', 'wieder', 'zwanzig', 'sollen', 'dank', 'wird', 'ehrlich', 'tag', 'irgend', 'allerdings', 'welche', 'hoch', 'neun', 'einige', 'deshalb', 'unserer', 'hatte', 'kaum', 'na', 'dritten', 'von', 'einem', 'eigenes', 'sind', 'aus', 'morgen', 'währenddessen', 'soll', 'eigene', 'sechste', 'niemand', 'teil', 'hätten', 'dadurch', 'dritte', 'deswegen', 'derselben', 'musste', 'ich', 'demgemäss', 'durfte', 'ist', 'jahr', 'tel', 'beispiel', 'es', 'derselbe', 'wann', 'fünftes', 'heißt', 'immer', 'mancher', 'en', 'hätte', 'vier', 'wessen', 'wurden', 'seitdem', 'erstes', 'drin', 'jenes', 'lang', 'ganzes', 'deinem', 'selbst', 'jemanden', 'derjenigen', 'daher', 'durchaus', 'sechs', 'andere', 'jemand', 'wollte', 'rechte', 'daneben', 'dritter', 'war', 'denn', 'mochten', 'mit', 'meine', 'hier', 'jedoch', 'worden', 'am', 'ihren', 'könnte', 'wir', 'ganze', 'unser', 'gar', 'sei', 'jemandem', 'werdet', 'nie', 'deren', 'darfst', 'vierter', 'im', 'muss', 'vergangene', 'drei', 'einigen', 'dem', 'weiteres', 'währenddem', 'sollten', 'eigener', 'ihrer', 'daraus', 'oben', 'mögt', 'guter', 'aller', 'heute', 'beiden', 'entweder', 'kleines', 'statt', 'man', 'neunte', 'ersten', 'siebenter', 'jedem', 'keinem', 'seines', 'ihres', 'rechter', 'viel', 'welches', 'mochte', 'deine', 'zeit', 'richtig', 'will', 'leicht', 'vom', 'großer', 'diese', 'jede', 'willst', 'die', 'mittel', 'mussten', 'meines', 'musst', 'seine', 'dessen', 'darf', 'jeden', 'bald', 'aber', 'sechster', 'an', 'gross', 'bist', 'kein', 'vierten', 'gemusst', 'besonders', 'dahinter', 'nahm', 'dagegen', 'wenig', 'demselben', 'macht', 'dafür', 'manchem', 'darauf', 'kleine', 'dürft', 'jenem', 'hast', 'fünfter', 'gehabt', 'beide', 'achte', 'wegen', 'oder', 'dazu', 'durch', 'ja', 'unsere', 'solches', 'früher', 'her', 'neunter', 'jedermanns', 'wollen', 'kann', 'neuntes', 'kommt', 'mag', 'jenen', 'lange', 'gemocht', 'durften', 'ganzer', 'wenige', 'vielem', 'sonst', 'sagte', 'solche', 'damit', 'machen', 'gerade', 'bisher', 'später', 'viertes', 'dementsprechend', 'elf', 'je', 'wäre', 'etwas', 'rechten', 'unter', 'natürlich', 'jetzt', 'gern', 'keine', 'dort', 'zunächst', 'acht', 'darunter', 'achter', 'auf', 'wart', 'anderen', 'nicht', 'nein', 'a', 'könnt', 'dieselbe', 'offen', 'danach', 'sagt', 'kleiner', 'eine', 'gekonnt', 'zehnter', 'habe', 'wurde', 'niemanden', 'anders', 'wo', 'welchem', 'so', 'ob', 'ihre', 'daselbst', 'siebte', 'grossen', 'wem', 'sieben', 'davor', 'dermaßen', 'sich', 'zwischen', 'gut', 'weiteren', 'besser', 'meinen', 'siebtes', 'bekannt', 'keiner', 'ihnen', 'geworden', 'meiner', 'meinem', 'genug', 'machte', 'einiger', 'fünf', 'jeder', 'eigen', 'des', 'doch', 'vierte', 'weitere', 'andern', 'gewesen', 'gutes', 'nur', 'gewollt', 'jener']\n"
     ]
    }
   ],
   "source": [
    "import spacy\n",
    "import de_core_news_sm\n",
    "from  spacy.lang.de.stop_words import STOP_WORDS\n",
    "nlp = de_core_news_sm.load()\n",
    "#nlp = spacy.load('en')\n",
    "\n",
    "# To build a list of stop words for filtering\n",
    "stopwords_de = list(STOP_WORDS)\n",
    "print(stopwords_de)"
   ]
  },
  {
   "cell_type": "code",
   "execution_count": 78,
   "metadata": {},
   "outputs": [],
   "source": [
    "import string\n",
    "punctuations = string.punctuation\n",
    "\n",
    "from spacy.lang.de import German\n",
    "parser_de = German()"
   ]
  },
  {
   "cell_type": "code",
   "execution_count": 79,
   "metadata": {},
   "outputs": [],
   "source": [
    "# Creating our tokenizer function\n",
    "def spacy_tokenizer(sentence):\n",
    "    # Creating our token object, which is used to create documents with linguistic annotations.\n",
    "    mytokens = parser_de(sentence)\n",
    "\n",
    "    # Lemmatizing each token and converting each token into lowercase\n",
    "    mytokens = [word.lemma_.lower().strip() if word.lemma_ != \"-PRON-\" else word.lower_ for word in mytokens]\n",
    "\n",
    "    # Removing stop words\n",
    "    mytokens = [word for word in mytokens if word not in stopwords_de and word not in punctuations]\n",
    "\n",
    "    # return preprocessed list of tokens\n",
    "    return mytokens"
   ]
  },
  {
   "cell_type": "code",
   "execution_count": 80,
   "metadata": {},
   "outputs": [],
   "source": [
    "\n",
    "class predictors(TransformerMixin):\n",
    "    def transform(self, X, **transform_params):\n",
    "        # Cleaning Text\n",
    "        return [clean_text(text) for text in X]\n",
    "\n",
    "    def fit(self, X, y=None, **fit_params):\n",
    "        return self\n",
    "\n",
    "    def get_params(self, deep=True):\n",
    "        return {}\n",
    "\n",
    "# Basic function to clean the text\n",
    "def clean_text(text):\n",
    "    # Removing spaces and converting text into lowercase\n",
    "    return text.strip().lower()"
   ]
  },
  {
   "cell_type": "code",
   "execution_count": 81,
   "metadata": {},
   "outputs": [],
   "source": [
    "bow_vector = CountVectorizer(tokenizer = spacy_tokenizer, ngram_range=(1,1))\n",
    "tfidf_vector = TfidfVectorizer(tokenizer = spacy_tokenizer)"
   ]
  },
  {
   "cell_type": "code",
   "execution_count": 83,
   "metadata": {},
   "outputs": [],
   "source": [
    "from sklearn.model_selection import train_test_split\n",
    "\n",
    "X_de = kleidung_de['Review Text DE']\n",
    "y_de = kleidung_de['Recommended IND'] \n",
    "\n",
    "X_train_de, X_test_de, y_train_de, y_test_de = train_test_split(X_de, y_de, test_size=0.3, random_state=42)"
   ]
  },
  {
   "cell_type": "code",
   "execution_count": 84,
   "metadata": {},
   "outputs": [
    {
     "output_type": "execute_result",
     "data": {
      "text/plain": [
       "Pipeline(steps=[('cleaner', <__main__.predictors object at 0x7fa7aed5a5e0>),\n",
       "                ('vectorizer',\n",
       "                 CountVectorizer(tokenizer=<function spacy_tokenizer at 0x7fa7af987af0>)),\n",
       "                ('classifier', LogisticRegression())])"
      ]
     },
     "metadata": {},
     "execution_count": 84
    }
   ],
   "source": [
    "# Logistic Regression Classifier\n",
    "\n",
    "pipe.fit(X_train_de, y_train_de)"
   ]
  },
  {
   "cell_type": "code",
   "execution_count": 85,
   "metadata": {},
   "outputs": [],
   "source": [
    "pred_lr_de = pipe.predict(X_test_de)"
   ]
  },
  {
   "cell_type": "code",
   "execution_count": 88,
   "metadata": {},
   "outputs": [
    {
     "output_type": "stream",
     "name": "stdout",
     "text": [
      "LR train accuracy: 0.9263990267639902\n",
      "LR test accuracy: 0.8653136531365314\n"
     ]
    }
   ],
   "source": [
    "print(\"LR train accuracy:\", pipe.score(X_train_de, y_train_de))\n",
    "print(\"LR test accuracy:\", pipe.score(X_test_de, y_test_de))"
   ]
  },
  {
   "source": [
    "## SUMMARY\n",
    "We used SpaCy to preprocess text reviews in English and German, then employed two machine learning models (Logistic Regression and Support Vector Classifier) to predict the sentiment of reviews in both languages. We achieved the following accuracy scores on the test data:\n",
    "- Logistic Regression: 95.65% on English, 86.53% on German\n",
    "- SVC: 86.46% accuracy on English"
   ],
   "cell_type": "markdown",
   "metadata": {}
  },
  {
   "cell_type": "code",
   "execution_count": null,
   "metadata": {},
   "outputs": [],
   "source": []
  }
 ],
 "metadata": {
  "kernelspec": {
   "name": "Python 3.8.5 64-bit ('my_env': conda)",
   "display_name": "Python 3.8.5 64-bit ('my_env': conda)",
   "metadata": {
    "interpreter": {
     "hash": "0eaaa3d9f5c3dfde9489338827632b9ddb7eb01e5876f95260908cf2d1371f48"
    }
   }
  },
  "language_info": {
   "codemirror_mode": {
    "name": "ipython",
    "version": 3
   },
   "file_extension": ".py",
   "mimetype": "text/x-python",
   "name": "python",
   "nbconvert_exporter": "python",
   "pygments_lexer": "ipython3",
   "version": "3.8.5-final"
  }
 },
 "nbformat": 4,
 "nbformat_minor": 4
}